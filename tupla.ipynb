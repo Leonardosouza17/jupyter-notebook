{
 "cells": [
  {
   "cell_type": "markdown",
   "metadata": {},
   "source": [
    "# Tupla em Python\n",
    "\n",
    "Uma tupla é uma estrutura de dados em Python que, assim como as listas, pode armazenar uma sequência de elementos. No entanto, ao contrário das listas, as tuplas são imutáveis, o que significa que, uma vez criadas, seus elementos não podem ser modificados, adicionados ou removidos.\n",
    "\n",
    "### Características das Tuplas\n",
    "- Imutáveis: Os elementos de uma tupla não podem ser alterados após a sua criação.\n",
    "- Ordenadas: Os elementos são armazenados e acessados em uma ordem específica.\n",
    "- Permitem Elementos Duplicados: As tuplas podem conter elementos repetidos.\n",
    "- Permitem Diferentes Tipos de Dados: Uma tupla pode conter elementos de diferentes tipos de dados."
   ]
  },
  {
   "cell_type": "markdown",
   "metadata": {},
   "source": [
    "- Exemplo de uma tupla\n"
   ]
  },
  {
   "cell_type": "code",
   "execution_count": null,
   "metadata": {},
   "outputs": [],
   "source": [
    "carros = (\"fusca\", \"kombi\",\"brasilia\")\n"
   ]
  },
  {
   "cell_type": "markdown",
   "metadata": {},
   "source": [
    "- Imprimindo tupla"
   ]
  },
  {
   "cell_type": "code",
   "execution_count": null,
   "metadata": {},
   "outputs": [],
   "source": [
    "print(carros)"
   ]
  },
  {
   "cell_type": "markdown",
   "metadata": {},
   "source": [
    "- Imprimindo o tipo tupla"
   ]
  },
  {
   "cell_type": "code",
   "execution_count": null,
   "metadata": {},
   "outputs": [],
   "source": [
    "carros = (\"fusca\", \"kombi\",\"brasilia\")\n",
    "\n",
    "print(carros)\n",
    "print(type(carros))"
   ]
  },
  {
   "cell_type": "markdown",
   "metadata": {},
   "source": [
    "## Funções das tuplas  "
   ]
  },
  {
   "cell_type": "markdown",
   "metadata": {},
   "source": [
    "### SORTED()\n",
    "É utilizada essa função para retornar a tupla de forma ordenada."
   ]
  },
  {
   "cell_type": "code",
   "execution_count": null,
   "metadata": {},
   "outputs": [],
   "source": [
    "print(sorted(carros))"
   ]
  },
  {
   "cell_type": "markdown",
   "metadata": {},
   "source": [
    "### SUM()\n",
    "É utilizado essa função para somar os valores de todos os itens da tupla. (Utilizado quando a tupla possui valores 'int' ou 'float')"
   ]
  },
  {
   "cell_type": "code",
   "execution_count": null,
   "metadata": {},
   "outputs": [],
   "source": [
    "tuplanumeros = (2, 4, 6, 8, 10.5)\n",
    "print(sum(tuplanumeros))"
   ]
  },
  {
   "cell_type": "markdown",
   "metadata": {},
   "source": [
    "### MIN()\n",
    "É utilizado essa função para retornar o item de menor valor da tupla"
   ]
  },
  {
   "cell_type": "code",
   "execution_count": null,
   "metadata": {},
   "outputs": [],
   "source": [
    "print(min(carros))"
   ]
  },
  {
   "cell_type": "markdown",
   "metadata": {},
   "source": [
    "### MAX()\n",
    "É utilizado essa função para retornar o item de maior valor da tupla"
   ]
  },
  {
   "cell_type": "code",
   "execution_count": null,
   "metadata": {},
   "outputs": [],
   "source": [
    "print(max(carros))"
   ]
  },
  {
   "cell_type": "markdown",
   "metadata": {},
   "source": [
    "### LEN()\n",
    "É utilizado essa função para contar a quantidade de itens possui a tupla"
   ]
  },
  {
   "cell_type": "code",
   "execution_count": null,
   "metadata": {},
   "outputs": [],
   "source": [
    "print(len(carros))"
   ]
  },
  {
   "cell_type": "markdown",
   "metadata": {},
   "source": [
    "## Métodos das tuplas\n"
   ]
  },
  {
   "cell_type": "markdown",
   "metadata": {},
   "source": [
    "### INDEX\n",
    "É utilizado esse método para indicar o indice em que o item se localiza na tupla"
   ]
  },
  {
   "cell_type": "code",
   "execution_count": null,
   "metadata": {},
   "outputs": [],
   "source": [
    "print(carros.index(\"fusca\"))"
   ]
  },
  {
   "cell_type": "markdown",
   "metadata": {},
   "source": [
    "## COUNT\n",
    "É utilizado esse método para contar a quantidade de vezes em que o item especificado se repete na tupla"
   ]
  },
  {
   "cell_type": "code",
   "execution_count": null,
   "metadata": {},
   "outputs": [],
   "source": [
    "print(carros.count(\"kombi\"))"
   ]
  }
 ],
 "metadata": {
  "language_info": {
   "name": "python"
  }
 },
 "nbformat": 4,
 "nbformat_minor": 2
}

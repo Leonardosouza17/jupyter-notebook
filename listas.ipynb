{
 "cells": [
  {
   "cell_type": "markdown",
   "metadata": {},
   "source": [
    "# Listas em python"
   ]
  },
  {
   "cell_type": "markdown",
   "metadata": {},
   "source": [
    "## Definindo uma lista"
   ]
  },
  {
   "cell_type": "code",
   "execution_count": null,
   "metadata": {},
   "outputs": [],
   "source": [
    "frutas = [\"abacate\", \"uva\", \"melão\"]"
   ]
  },
  {
   "cell_type": "markdown",
   "metadata": {},
   "source": [
    "1- Objetivo: Criar uma lista chamada frutas.\n",
    "\n",
    "2- Explicação: A lista frutas contém três strings: \"abacate\", \"uva\" e \"melão\". Uma lista em Python é uma coleção ordenada e mutável que permite a adição, remoção e modificação dos elementos contidos nela."
   ]
  },
  {
   "cell_type": "markdown",
   "metadata": {},
   "source": [
    "### Impressão da lista"
   ]
  },
  {
   "cell_type": "code",
   "execution_count": null,
   "metadata": {},
   "outputs": [],
   "source": [
    "print(frutas)"
   ]
  },
  {
   "cell_type": "markdown",
   "metadata": {},
   "source": [
    "1- Objetivo: Exibir os elementos da lista frutas.\n",
    "\n",
    "2- Explicação:  O comando print(frutas) imprime o conteúdo da lista frutas, que neste caso será ['abacate', 'uva', 'melão']."
   ]
  },
  {
   "cell_type": "markdown",
   "metadata": {},
   "source": [
    "### Impressão dos dados"
   ]
  },
  {
   "cell_type": "code",
   "execution_count": null,
   "metadata": {},
   "outputs": [],
   "source": [
    "print(type(frutas))"
   ]
  },
  {
   "cell_type": "markdown",
   "metadata": {},
   "source": [
    "1- Objetivo: Mostrar o tipo de dado da variável frutas.\n",
    "\n",
    "2- Explicação: **O comando print(type(frutas))** imprime o tipo da variável frutas. Como frutas é uma lista, o resultado será **<class 'list'>**."
   ]
  },
  {
   "cell_type": "markdown",
   "metadata": {},
   "source": [
    "## Acessando os itens da lista "
   ]
  },
  {
   "cell_type": "code",
   "execution_count": null,
   "metadata": {},
   "outputs": [],
   "source": [
    "print(frutas[0])\n",
    "print(frutas[1])\n",
    "print(frutas[2])"
   ]
  },
  {
   "cell_type": "markdown",
   "metadata": {},
   "source": [
    "#### 1° Item "
   ]
  },
  {
   "cell_type": "code",
   "execution_count": null,
   "metadata": {},
   "outputs": [],
   "source": [
    "print(frutas[0])"
   ]
  },
  {
   "cell_type": "markdown",
   "metadata": {},
   "source": [
    "1- Objetivo: Exibir o primeiro item da lista frutas.\n",
    "\n",
    "2- Explicação: Em Python, as listas são indexadas a partir de 0. Assim, **frutas[0]** refere-se ao primeiro item da lista, que é \"abacate\". O comando print **(frutas[0])** imprime \"abacate\"."
   ]
  },
  {
   "cell_type": "markdown",
   "metadata": {},
   "source": [
    "#### 2° Item"
   ]
  },
  {
   "cell_type": "code",
   "execution_count": null,
   "metadata": {},
   "outputs": [],
   "source": [
    "print(frutas[1])"
   ]
  },
  {
   "cell_type": "markdown",
   "metadata": {},
   "source": [
    "1- Objetivo: Exibir o segundo item da lista frutas.\n",
    "\n",
    "2- Explicação: O índice 1 refere-se ao segundo item da lista. Portanto, **frutas[1]** retorna \"uva\". O comando print **(frutas[1])** imprime \"uva\"."
   ]
  },
  {
   "cell_type": "markdown",
   "metadata": {},
   "source": [
    "#### 3° Item "
   ]
  },
  {
   "cell_type": "code",
   "execution_count": null,
   "metadata": {},
   "outputs": [],
   "source": [
    "print(frutas[2])"
   ]
  },
  {
   "cell_type": "markdown",
   "metadata": {},
   "source": [
    "1- Objetivo: Exibir o terceiro item da lista frutas.\n",
    "\n",
    "2- Explicação: O índice 2 refere-se ao terceiro item da lista. Assim, **frutas[2]** retorna \"melão\". O comando print **(frutas[2])** imprime \"melão\"."
   ]
  },
  {
   "cell_type": "markdown",
   "metadata": {},
   "source": [
    "### Implementação do Loop **for**"
   ]
  },
  {
   "cell_type": "code",
   "execution_count": null,
   "metadata": {},
   "outputs": [],
   "source": [
    "for fruta in frutas\n",
    "print(fruta)"
   ]
  },
  {
   "cell_type": "markdown",
   "metadata": {},
   "source": [
    "**for fruta in frutas:**"
   ]
  },
  {
   "cell_type": "markdown",
   "metadata": {},
   "source": [
    "1- Objetivo: Iterar sobre cada item na lista `frutas`.\n",
    "\n",
    "2- Explicação: A estrutura do loop for em Python permite iterar sobre todos os itens de uma lista (ou qualquer outro iterável). Aqui, fruta é uma variável temporária que assume, a cada iteração, o valor do próximo item da lista frutas."
   ]
  },
  {
   "cell_type": "markdown",
   "metadata": {},
   "source": [
    "**print(fruta)**"
   ]
  },
  {
   "cell_type": "markdown",
   "metadata": {},
   "source": [
    "1- Objetivo: Imprimir o item atual da iteração.\n",
    "\n",
    "2- Explicação: Dentro do loop, o comando **print(fruta)** é executado em cada iteração. Ele imprime o valor atual de fruta, que é o item da lista **frutas** correspondente à iteração atual.\n",
    "\n",
    "### Como Funciona\n",
    "- **Primeira Iteração:** fruta recebe o valor \"abacate\". O comando **print(fruta)** imprime \"abacate\".\n",
    "- **Segunda Iteração:** fruta recebe o valor \"uva\". O comando **print(fruta)** imprime \"uva\".\n",
    "- **Terceira Iteração:** fruta recebe o valor \"melão\". O comando **print(fruta)** imprime \"melão\"."
   ]
  },
  {
   "cell_type": "markdown",
   "metadata": {},
   "source": [
    "## Lista Mista\n",
    "\n",
    "- Este código exemplifica a criação e impressão de uma lista mista em Python. Uma lista mista é uma estrutura de dados que pode conter elementos de diferentes tipos, como strings, inteiros, números de ponto flutuante e booleanos."
   ]
  },
  {
   "cell_type": "code",
   "execution_count": null,
   "metadata": {},
   "outputs": [],
   "source": [
    "listaMista = [\"notebook\", 10, 7.56, True]\n",
    "print(listaMista)"
   ]
  },
  {
   "cell_type": "markdown",
   "metadata": {},
   "source": [
    "1- **listaMista:** Esta variável é uma lista que contém quatro elementos.\n",
    "\n",
    "2- **\"notebook\"**: O primeiro elemento é uma string.\n",
    "\n",
    "3- **10** O segundo elemento é um número inteiro.\n",
    "\n",
    "4- **7.56** O terceiro elemento é um número de ponto flutuante (float).\n",
    "\n",
    "5- **True:** O quarto elemento é um valor booleano."
   ]
  },
  {
   "cell_type": "code",
   "execution_count": null,
   "metadata": {},
   "outputs": [],
   "source": [
    "print(listaMista)"
   ]
  },
  {
   "cell_type": "markdown",
   "metadata": {},
   "source": [
    "1- **print(listaMista):** Esta função imprime o conteúdo da lista listaMista no console. O resultado será: [\"notebook\", 10, 7.56, True].\n",
    "\n",
    "### Observações\n",
    "- A lista mista em Python é flexível e pode conter diferentes tipos de dados, tornando-a útil para armazenar coleções heterogêneas de elementos.\n",
    "- O uso de diferentes tipos de dados em uma única lista pode facilitar a organização e manipulação de informações diversas em um único local."
   ]
  },
  {
   "cell_type": "markdown",
   "metadata": {},
   "source": [
    "## Listas Valores Repetidos\n",
    "\n",
    "- Este código exemplifica a criação e impressão de uma lista contendo valores repetidos em Python. Listas em Python permitem armazenar múltiplas ocorrências do mesmo valor."
   ]
  },
  {
   "cell_type": "code",
   "execution_count": null,
   "metadata": {},
   "outputs": [],
   "source": [
    "listaValoresRepetidos = ['teclado', 'teclado', 'teclado', 'teclado']\n",
    "print(listaValoresRepetidos)"
   ]
  },
  {
   "cell_type": "markdown",
   "metadata": {},
   "source": [
    "1- **listaValoresRepetidos:** Esta variável é uma lista que contém quatro elementos.\n",
    "\n",
    "2- **'teclado':** Todos os quatro elementos da lista são a string **'teclado'**."
   ]
  },
  {
   "cell_type": "code",
   "execution_count": null,
   "metadata": {},
   "outputs": [],
   "source": [
    "print(listaValoresRepetidos)"
   ]
  },
  {
   "cell_type": "markdown",
   "metadata": {},
   "source": [
    "1- **print(listaValoresRepetidos):** Esta função imprime o conteúdo da lista **listaValoresRepetidos** no console. O resultado será: **['teclado', 'teclado', 'teclado', 'teclado']**."
   ]
  },
  {
   "cell_type": "markdown",
   "metadata": {},
   "source": [
    "## Tamanho das Listas\n",
    "\n",
    "- Este código exemplifica como determinar e imprimir o tamanho de diferentes listas em Python usando a função **len()**. A função **len()** retorna o número de elementos presentes em uma lista."
   ]
  },
  {
   "cell_type": "code",
   "execution_count": null,
   "metadata": {},
   "outputs": [],
   "source": [
    "frutas = ['abacate', 'uva', 'melão']\n",
    "listaMista = [\"notebook\", 10, 7.56, True]\n",
    "listaValoresRepetidos = ['teclado', 'teclado', 'teclado', 'teclado']"
   ]
  },
  {
   "cell_type": "markdown",
   "metadata": {},
   "source": [
    "- **frutas:** Esta lista contém três elementos, todos strings.\n",
    "- **listaMista**: Esta lista contém quatro elementos de diferentes tipos (string, inteiro, float e booleano).\n",
    "- **listaValoresRepetidos**: Esta lista contém quatro elementos, todos iguais a 'teclado'."
   ]
  },
  {
   "cell_type": "code",
   "execution_count": null,
   "metadata": {},
   "outputs": [],
   "source": [
    "print(len(frutas))  # len -> length\n",
    "print(len(listaMista))\n",
    "print(len(listaValoresRepetidos))"
   ]
  },
  {
   "cell_type": "markdown",
   "metadata": {},
   "source": [
    "- **len(frutas)**: Esta função retorna o número de elementos na lista frutas, que é 3.\n",
    "- **len(listaMista)**: Esta função retorna o número de elementos na lista listaMista, que é 4.\n",
    "- **len(listaValoresRepetidos)**: Esta função retorna o número de elementos na lista listaValoresRepetidos, que é 4."
   ]
  },
  {
   "cell_type": "markdown",
   "metadata": {},
   "source": [
    "## Criação de Lista a partir de Variáveis e Tupla\n",
    "\n",
    "- Este código exemplifica a criação de uma lista em Python utilizando variáveis de string e a conversão de uma tupla para uma lista. A lista resultante é então impressa."
   ]
  },
  {
   "cell_type": "code",
   "execution_count": null,
   "metadata": {},
   "outputs": [],
   "source": [
    "fruta1 = \"pêssego\"\n",
    "fruta2 = \"kiwi\"\n",
    "fruta3 = \"lichia\"\n",
    "\n",
    "listaFrutas = list((fruta1, fruta2, fruta3, \"limão\"))\n",
    "print(listaFrutas)"
   ]
  },
  {
   "cell_type": "markdown",
   "metadata": {},
   "source": [
    "``fruta1, fruta2, fruta3``: Estas variáveis são strings que armazenam nomes de frutas.\n",
    "\n",
    "- A função **list()** é utilizada para converter uma tupla em uma lista.\n",
    "-A tupla **('pêssego', 'kiwi', 'lichia', 'limão')** é criada com os valores das variáveis fruta1, fruta2, fruta3 e a string adicional \"limão\".\n",
    "- A tupla é então convertida em uma lista pela função  **list()**, resultando em **['pêssego', 'kiwi', 'lichia', 'limão'].**"
   ]
  },
  {
   "cell_type": "markdown",
   "metadata": {},
   "source": [
    "### Métodos utilizados nas listas "
   ]
  },
  {
   "cell_type": "markdown",
   "metadata": {},
   "source": [
    "### Clear\n",
    "É utilizado esse método para limpar todos os itens que tem em uma lista"
   ]
  },
  {
   "cell_type": "code",
   "execution_count": null,
   "metadata": {},
   "outputs": [],
   "source": [
    "frutas.clear()\n",
    "print(frutas,listaMista)"
   ]
  },
  {
   "cell_type": "markdown",
   "metadata": {},
   "source": [
    "## Reverse\n",
    "É utilizado esse método para ordenar os itens da lista em ordem decrescente."
   ]
  },
  {
   "cell_type": "code",
   "execution_count": null,
   "metadata": {},
   "outputs": [],
   "source": [
    "frutas.reverse()\n",
    "print(frutas)"
   ]
  },
  {
   "cell_type": "markdown",
   "metadata": {},
   "source": [
    "## SORT\n",
    "É utlizado esse método para ordenar os itens da lista em ordem crescente"
   ]
  },
  {
   "cell_type": "code",
   "execution_count": null,
   "metadata": {},
   "outputs": [],
   "source": [
    "frutas.sort()\n",
    "print(frutas)"
   ]
  },
  {
   "cell_type": "markdown",
   "metadata": {},
   "source": [
    "## Count\n",
    "É utlizado esse método para contar quantas vezes aquele item se repete na lista."
   ]
  },
  {
   "cell_type": "code",
   "execution_count": null,
   "metadata": {},
   "outputs": [],
   "source": [
    "print(frutas.count(\"melão\"))"
   ]
  },
  {
   "cell_type": "markdown",
   "metadata": {},
   "source": [
    "## POP\n",
    "É utlizado esse método para remover um item através de seu indice especificado da lista."
   ]
  },
  {
   "cell_type": "code",
   "execution_count": null,
   "metadata": {},
   "outputs": [],
   "source": [
    "frutas.pop(0)\n",
    "print(frutas)"
   ]
  },
  {
   "cell_type": "markdown",
   "metadata": {},
   "source": [
    "## REMOVE\n",
    "É utilizado esse método para remover o item que foi especificado da lista."
   ]
  },
  {
   "cell_type": "code",
   "execution_count": null,
   "metadata": {},
   "outputs": [],
   "source": [
    "frutas.remove(\"abacate\")\n",
    "print(frutas)"
   ]
  },
  {
   "cell_type": "markdown",
   "metadata": {},
   "source": [
    "## INSERT\n",
    "É utilizado esse método para adicionar um item à lista, porém em uma posição especificada."
   ]
  },
  {
   "cell_type": "code",
   "execution_count": null,
   "metadata": {},
   "outputs": [],
   "source": [
    "frutas.insert(0, \"manga\")\n",
    "print(frutas)"
   ]
  },
  {
   "cell_type": "markdown",
   "metadata": {},
   "source": [
    "## APPEND\n",
    "É utilizado esse método para adicionar um item na última posição da lista."
   ]
  },
  {
   "cell_type": "code",
   "execution_count": null,
   "metadata": {},
   "outputs": [],
   "source": [
    "frutas.append(\"pera\")\n",
    "print(frutas)"
   ]
  },
  {
   "cell_type": "markdown",
   "metadata": {},
   "source": [
    "## EXTEND\n",
    "É utilizado esse método para juntar uma lista ao final da outra lista."
   ]
  },
  {
   "cell_type": "code",
   "execution_count": null,
   "metadata": {},
   "outputs": [],
   "source": [
    "listaFrutas = [\"pêssego \", \"kiwi\", \"lichia\"]\n",
    "frutas.extend(listaFrutas)\n",
    "print(frutas)"
   ]
  }
 ],
 "metadata": {
  "language_info": {
   "name": "python"
  }
 },
 "nbformat": 4,
 "nbformat_minor": 2
}

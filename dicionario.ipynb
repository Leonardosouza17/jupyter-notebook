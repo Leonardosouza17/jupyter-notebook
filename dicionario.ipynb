{
 "cells": [
  {
   "cell_type": "markdown",
   "metadata": {},
   "source": [
    "# Dicionário em python\n",
    "Dicionários em python são coleções de pares chave-valor. Eles são utilizados para armazenar dados de forma que cada valor (value) esteja associado a uma chave única (key). Os dicionários são mutáveis, ou seja, você pode alterar seus valores após a criação. Eles são definidos usando chaves {} e os pares chave-valor são separados por dois pontos :"
   ]
  },
  {
   "cell_type": "markdown",
   "metadata": {},
   "source": [
    "### Exemplo de dicionário"
   ]
  },
  {
   "cell_type": "code",
   "execution_count": null,
   "metadata": {},
   "outputs": [],
   "source": [
    "honda = { \"nome\": \"HRV\",  \"modelo\": \"suv\", \"ano\": 2021, \"motor\": 1.8}"
   ]
  },
  {
   "cell_type": "markdown",
   "metadata": {},
   "source": [
    "### Imrpimindo a criação dicionário"
   ]
  },
  {
   "cell_type": "code",
   "execution_count": null,
   "metadata": {},
   "outputs": [],
   "source": [
    "print(honda)"
   ]
  },
  {
   "cell_type": "markdown",
   "metadata": {},
   "source": [
    "### Imprimindo tipo dicionário"
   ]
  },
  {
   "cell_type": "code",
   "execution_count": null,
   "metadata": {},
   "outputs": [],
   "source": [
    "print(type(honda))"
   ]
  },
  {
   "cell_type": "code",
   "execution_count": null,
   "metadata": {},
   "outputs": [],
   "source": [
    "honda = {\"nome\": \"HRV\",  \"modelo\": \"suv\", \"ano\": 2021, \"motor\": 1.8}\n",
    "\n",
    "print(honda)\n",
    "print(type(honda))"
   ]
  },
  {
   "cell_type": "markdown",
   "metadata": {},
   "source": [
    "## Métodos para dicionários"
   ]
  },
  {
   "cell_type": "markdown",
   "metadata": {},
   "source": [
    "### FROMKEYS\n",
    "É utilizado o método fromkeys para criar um novo dicionario, sendo possivel ser feita a atribuição de um valor à uma variável e atribuir essa variavel sendo um valor para todas as chaves que estão no dicionário que foi criado a partir do dicionario do começo."
   ]
  },
  {
   "cell_type": "code",
   "execution_count": null,
   "metadata": {},
   "outputs": [],
   "source": [
    "criador_da_honda = [\"nome\", \"idade\", \"cidade\"]\n",
    "\n",
    "consulta = \"pesquisa\"\n",
    "\n",
    "novodici = honda.fromkeys(criador_da_honda, consulta)\n",
    "print(novodici)"
   ]
  },
  {
   "cell_type": "markdown",
   "metadata": {},
   "source": [
    "### CLEAR\n",
    "É utilizado esse método para excluir  as chaves e os valores que estão no dicionário"
   ]
  },
  {
   "cell_type": "code",
   "execution_count": null,
   "metadata": {},
   "outputs": [],
   "source": [
    "honda.clear()\n",
    "print(honda)"
   ]
  },
  {
   "cell_type": "markdown",
   "metadata": {},
   "source": [
    "### SETDEFAULT\n",
    "É utilizado esse método para consultar o valor que está na chave especifica e armazena-lá em uma variável"
   ]
  },
  {
   "cell_type": "code",
   "execution_count": null,
   "metadata": {},
   "outputs": [],
   "source": [
    "option = honda.setdefault(\"nome\")\n",
    "print(option)"
   ]
  },
  {
   "cell_type": "markdown",
   "metadata": {},
   "source": [
    "### GET\n",
    "É utilizado esse método para colocar um valor de uma chave existente, caso não exista a chave digitada, ele retornará uma mensagem dizendo que não existe."
   ]
  },
  {
   "cell_type": "code",
   "execution_count": null,
   "metadata": {},
   "outputs": [],
   "source": [
    "name = honda.get(\"Nome\")\n",
    "dono = honda.get(\"dono\")\n",
    "print(name, dono)"
   ]
  },
  {
   "cell_type": "markdown",
   "metadata": {},
   "source": [
    "### POPITEM\n",
    "É utilizado esse método para excluir o último item do dicionário"
   ]
  },
  {
   "cell_type": "code",
   "execution_count": null,
   "metadata": {},
   "outputs": [],
   "source": [
    "honda.popitem()\n",
    "print(honda)"
   ]
  },
  {
   "cell_type": "markdown",
   "metadata": {},
   "source": [
    "### POP\n",
    "É utilizado esse método para remover itens especificos do dicionário"
   ]
  },
  {
   "cell_type": "code",
   "execution_count": null,
   "metadata": {},
   "outputs": [],
   "source": [
    "honda.pop(\"motor\")\n",
    "print(honda)"
   ]
  },
  {
   "cell_type": "markdown",
   "metadata": {},
   "source": [
    "### VALUES\n",
    "É utilizado esse método para colocar somente os valores que estão nas chaves do dicionário"
   ]
  },
  {
   "cell_type": "code",
   "execution_count": null,
   "metadata": {},
   "outputs": [],
   "source": [
    "value = honda.values()\n",
    "print(value)"
   ]
  },
  {
   "cell_type": "markdown",
   "metadata": {},
   "source": [
    "### KEYS\n",
    "É utilizado esse método para colocar apenas as chaves que estão no dicionário"
   ]
  },
  {
   "cell_type": "code",
   "execution_count": null,
   "metadata": {},
   "outputs": [],
   "source": [
    "key = honda.keys()\n",
    "print(key)"
   ]
  },
  {
   "cell_type": "markdown",
   "metadata": {},
   "source": [
    "### ITEMS\n",
    "É utilizado esse método para colocar o dicionário e as chaves como seus valores de atribuição"
   ]
  },
  {
   "cell_type": "code",
   "execution_count": null,
   "metadata": {},
   "outputs": [],
   "source": [
    "things = honda.items()\n",
    "print(things)"
   ]
  },
  {
   "cell_type": "markdown",
   "metadata": {},
   "source": [
    "### SETDEFAULT\n",
    "É utilizado esse método para adicionar um item e seu valor ao dicionário"
   ]
  },
  {
   "cell_type": "code",
   "execution_count": null,
   "metadata": {},
   "outputs": [],
   "source": [
    "novasinform = honda.setdefault(\"tanque de combustível\", \"porta malas\")\n",
    "print(novasinform)"
   ]
  },
  {
   "cell_type": "markdown",
   "metadata": {},
   "source": [
    "### UPDATE\n",
    "É utilizado esse método para adicionar um item e seu valor ao dicionário"
   ]
  },
  {
   "cell_type": "code",
   "execution_count": null,
   "metadata": {},
   "outputs": [],
   "source": [
    "honda.update({\"rodas aro\" : 17})\n",
    "print(honda)"
   ]
  },
  {
   "cell_type": "markdown",
   "metadata": {},
   "source": [
    "outro método de adição de itens e seus valores "
   ]
  },
  {
   "cell_type": "code",
   "execution_count": null,
   "metadata": {},
   "outputs": [],
   "source": [
    "honda[\"cor\"] = \"azul-cósmico\"\n",
    "print(honda)"
   ]
  }
 ],
 "metadata": {
  "language_info": {
   "name": "python"
  }
 },
 "nbformat": 4,
 "nbformat_minor": 2
}

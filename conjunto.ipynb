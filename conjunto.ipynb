{
 "cells": [
  {
   "cell_type": "markdown",
   "metadata": {},
   "source": [
    "# Conjunto em python\n",
    "\n",
    "Um conjunto em python é uma coleção não ordenada e sem elementos duplicados. Conjuntos são úteis quando você quer armazenar múltiplos itens e quer garantir que cada item seja único. Eles são definidos pela palavra-chave ou usando chaves {}."
   ]
  },
  {
   "cell_type": "markdown",
   "metadata": {},
   "source": [
    "### Exemplo de conjunto"
   ]
  },
  {
   "cell_type": "code",
   "execution_count": null,
   "metadata": {},
   "outputs": [],
   "source": [
    "marcas = {\"volkswagen\", \"chevrolet\", \"fiat\", \"ford\"}"
   ]
  },
  {
   "cell_type": "markdown",
   "metadata": {},
   "source": [
    "### Imprimindo o conjunto"
   ]
  },
  {
   "cell_type": "code",
   "execution_count": null,
   "metadata": {},
   "outputs": [],
   "source": [
    "print(marcas)"
   ]
  },
  {
   "cell_type": "markdown",
   "metadata": {},
   "source": [
    "### Imprimindo o tipo do conjunto"
   ]
  },
  {
   "cell_type": "code",
   "execution_count": null,
   "metadata": {},
   "outputs": [],
   "source": [
    "print(type(marcas))"
   ]
  },
  {
   "cell_type": "code",
   "execution_count": null,
   "metadata": {},
   "outputs": [],
   "source": [
    "marcas = {\"volkswagen\", \"chevrolet\", \"fiat\", \"ford\"}\n",
    "\n",
    "print(marcas)\n",
    "print(type(marcas))"
   ]
  },
  {
   "cell_type": "markdown",
   "metadata": {},
   "source": [
    "## Métodos para os conjuntos"
   ]
  },
  {
   "cell_type": "markdown",
   "metadata": {},
   "source": [
    "### CLEAR\n",
    "É utilizado esse método para apagar os itens de um conjunto"
   ]
  },
  {
   "cell_type": "code",
   "execution_count": null,
   "metadata": {},
   "outputs": [],
   "source": [
    "conjunto1 = {\"volkswagen\",\"chevrolet\"}\n",
    "conjunto2 = {\"fiat\", \"ford\"}\n",
    "\n",
    "conjunto1.clear()\n",
    "\n",
    "print(conjunto1, conjunto2)"
   ]
  },
  {
   "cell_type": "markdown",
   "metadata": {},
   "source": [
    "### ISSUPERSET\n",
    "É utilizado esse método para averiguar se o primeiro conjunto possui todos os itens do segundo conjunto dentro de dele mesmo."
   ]
  },
  {
   "cell_type": "code",
   "execution_count": null,
   "metadata": {},
   "outputs": [],
   "source": [
    "conjunto1 = {\"volkswagen\", \"chevrolet\"}\n",
    "conjunto2 = {\"fiat\", \"ford\"}\n",
    "conjunto3 = conjunto1.issubset(conjunto2)\n",
    "\n",
    "print(conjunto3)"
   ]
  },
  {
   "cell_type": "markdown",
   "metadata": {},
   "source": [
    "### SYMMETRIC_DIFFERENCE\n",
    "É utilizado esse método para retornar um conjunto que contenha valores com diferença simétrica entre os dois conjuntos, ou seja, ele irá comparar os itens de cada conjunto , e retonar os itens que não são iguais entre os  conjuntos"
   ]
  },
  {
   "cell_type": "code",
   "execution_count": null,
   "metadata": {},
   "outputs": [],
   "source": [
    "conjunto1 = {\"volkswagen\",\"chevrolet\" }\n",
    "conjunto2 = { \"fiat\", \"ford\"}\n",
    "\n",
    "diferenca = conjunto1.symmetric_difference(conjunto2)\n",
    "print(diferenca)"
   ]
  },
  {
   "cell_type": "markdown",
   "metadata": {},
   "source": [
    "### DIFFERENCE\n",
    "É utilizado esse método para retornar os itens que estão no primeiro conjunto, mas não se repete no segundo conjunto"
   ]
  },
  {
   "cell_type": "code",
   "execution_count": null,
   "metadata": {},
   "outputs": [],
   "source": [
    "conjunto1 = {\"volkswagen\", \"chevrolet\"}\n",
    "conjunto2 = { \"fiat\", \"ford\"}\n",
    "\n",
    "diferenca = conjunto1.difference(conjunto2)\n",
    "print(diferenca)"
   ]
  },
  {
   "cell_type": "markdown",
   "metadata": {},
   "source": [
    "### INTERSECTION\n",
    "É utilizado esse método para que retorne um item que tem repetição nos dois  conjuntos"
   ]
  },
  {
   "cell_type": "code",
   "execution_count": null,
   "metadata": {},
   "outputs": [],
   "source": [
    "intersec = marcas.intersection(marcas)\n",
    "print(intersec)"
   ]
  },
  {
   "cell_type": "markdown",
   "metadata": {},
   "source": [
    "### UNION\n",
    "É utilizado esse método para juntar os conjuntos de forma aleatória"
   ]
  },
  {
   "cell_type": "code",
   "execution_count": null,
   "metadata": {},
   "outputs": [],
   "source": [
    "outrasmarcas = {\"honda\", \"toyota\", \"nissan\"}\n",
    "\n",
    "unindo = marcas.union(outrasmarcas)\n",
    "print(unindo)"
   ]
  },
  {
   "cell_type": "markdown",
   "metadata": {},
   "source": [
    "### POP\n",
    "É utilizado esse método para remover um item de uma forma aleatória pois não pode ser definido"
   ]
  },
  {
   "cell_type": "code",
   "execution_count": null,
   "metadata": {},
   "outputs": [],
   "source": [
    "marcas.pop()\n",
    "print(marcas)"
   ]
  },
  {
   "cell_type": "markdown",
   "metadata": {},
   "source": [
    "### DISCARD\n",
    "É utilizado esse método para retirar um item especifico do conjunto, caso não especificar um item que faça parte do conjunto, ele não fará nada"
   ]
  },
  {
   "cell_type": "code",
   "execution_count": null,
   "metadata": {},
   "outputs": [],
   "source": [
    "marcas.discard(\"chrysler\")\n",
    "print(marcas)"
   ]
  },
  {
   "cell_type": "markdown",
   "metadata": {},
   "source": [
    "### REMOVE\n",
    "É utilizado esse método para remover um item especifico do conjunto, caso não especificar o item ele retornará uma mensagem de erro"
   ]
  },
  {
   "cell_type": "code",
   "execution_count": null,
   "metadata": {},
   "outputs": [],
   "source": [
    "marcas.remove(\"volkswagem\")\n",
    "print(marcas)"
   ]
  },
  {
   "cell_type": "markdown",
   "metadata": {},
   "source": [
    "### ADD\n",
    "É utilizado esse método para adicionar um item ao conjunto"
   ]
  },
  {
   "cell_type": "code",
   "execution_count": null,
   "metadata": {},
   "outputs": [],
   "source": [
    "marcas.add(\"renault\")\n",
    "print(marcas)"
   ]
  }
 ],
 "metadata": {
  "language_info": {
   "name": "python"
  }
 },
 "nbformat": 4,
 "nbformat_minor": 2
}
